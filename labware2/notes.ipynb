{
 "cells": [
  {
   "cell_type": "markdown",
   "metadata": {},
   "source": [
    "# Labware Manipulation/Site v2.0"
   ]
  },
  {
   "cell_type": "markdown",
   "metadata": {},
   "source": [
    "### What we have now"
   ]
  },
  {
   "cell_type": "code",
   "execution_count": null,
   "metadata": {},
   "outputs": [],
   "source": [
    "# The bad (1) - PrepareForInput (and output)\n",
    "\n",
    "from typing import NamedTuple\n",
    "HandoverPosition = NamedTuple(\"HandoverPosition\", Position=str, Index=int)\n",
    "\n",
    "\n",
    "async def AvailableHandoverPositions(self) -> list[HandoverPosition]:\n",
    "    return []\n",
    "\n",
    "async def NumberOfInternalPositions(self) -> int:\n",
    "    return 1\n",
    "\n",
    "async def PrepareForInput(\n",
    "    HandoverPosition: HandoverPosition,\n",
    "    InternalPosition: int,\n",
    "    LabwareType: str,\n",
    "    LabwareUniqueID: str,\n",
    ") -> None:\n",
    "    pass\n",
    "\n",
    "async def PrepareForOutput(\n",
    "    HandoverPosition: HandoverPosition,\n",
    "    InternalPosition: int,\n",
    ") -> None:\n",
    "    pass\n",
    "\n",
    "\n",
    "# HandoverPosition - why do we need booth Position and Index? Why booth, why not just one? Arbitrary much?\n",
    "#                   - And how do I map this position to the actual robot? Need an external lookup table anyway.\n",
    "# InternalPosition - Why just an index here? (see HandoverPosition) How do I know which are free?\n",
    "\n",
    "# LabwareType - sure I can tell you what I'm gonna pass, so some logic can be applied.... but I'm also \n",
    "#               telling you exactly where to put it. So what is the point? Also, not used for retrieval.\n",
    "# LabwareUniqueID - You were given a position? Why do you need a unique ID? It is not used for retrieval, why is it needed?\n",
    "\n",
    "\n",
    "# No return value ???\n",
    "# Wouldn't it be nice if a token was returned, so we could use that to refer to this call later on?\n",
    "# - PrepareForInput -> GetLabware.\n",
    "# Or return the internal position where you plan to place it..."
   ]
  },
  {
   "cell_type": "code",
   "execution_count": null,
   "metadata": {},
   "outputs": [],
   "source": [
    "# The bad (2) - Put/Get/Delivered/Removed\n",
    "\n",
    "async def GetLabware(\n",
    "        HandoverPosition: HandoverPosition,\n",
    "        IntermediateActions: list[str],\n",
    "    ) -> None:\n",
    "        pass\n",
    "\n",
    "# HandoverPosition - see comment above. Replace with token here?\n",
    "# IntermediateActions - Why? Why not just call a series of sila commands directly?"
   ]
  },
  {
   "cell_type": "markdown",
   "metadata": {},
   "source": [
    "### The Fix"
   ]
  },
  {
   "cell_type": "code",
   "execution_count": null,
   "metadata": {},
   "outputs": [],
   "source": [
    "# The fix (1) - PrepareForInput (and output)\n",
    "\n",
    "HandoverposUUID = str\n",
    "InternalPosUUID = str\n",
    "LabwareUUID = str\n",
    "TransactionToken = str\n",
    "\n",
    "# Change to return UUIDs\n",
    "async def AvailableHandoverPositions(self) -> list[HandoverposUUID]:\n",
    "    return []\n",
    "\n",
    "\n",
    "# Change to return a InternalPosition to Labware map\n",
    "# I know SiLA XML does not support null values... wish for the future\n",
    "async def GetContent(self) -> dict[InternalPosUUID, LabwareUUID | None]:\n",
    "    return dict()\n",
    "\n",
    "\n",
    "# Remove: InternalPosition, LabwareUniqueID, LabwareType\n",
    "# Changed to return a token\n",
    "async def PrepareForInput(\n",
    "        HandOverPosition: HandoverposUUID,\n",
    "    ) -> TransactionToken:\n",
    "    return \"\"\n",
    "\n",
    "# Remove: InternalPosition\n",
    "# Added: LabwareUUID\n",
    "# Changed to return a token\n",
    "async def PrepareForOutput(\n",
    "        HandOverPosition: HandoverposUUID,\n",
    "        LabwareUniqueID: LabwareUUID,\n",
    "    ) -> TransactionToken:\n",
    "    return \"\"\n"
   ]
  },
  {
   "cell_type": "code",
   "execution_count": null,
   "metadata": {},
   "outputs": [],
   "source": [
    "# The fix (2) - Put/Get/Delivered/Removed\n",
    "\n",
    "# Removed IntermediateActions, HandoverPosition\n",
    "# Added: TransactionToken\n",
    "async def PutLabware(\n",
    "        Token: TransactionToken,\n",
    "    ) -> None:\n",
    "        pass\n",
    "\n",
    "# Added: Returns InternalPosUUID - where the labware is placed in the end\n",
    "async def LabwareDelivered(\n",
    "        Token: TransactionToken,\n",
    "        LabwareUniqueID: LabwareUUID,\n",
    "    ) -> InternalPosUUID:\n",
    "        return \"\"\n"
   ]
  },
  {
   "cell_type": "markdown",
   "metadata": {},
   "source": [
    "### What it would look like"
   ]
  },
  {
   "cell_type": "code",
   "execution_count": null,
   "metadata": {},
   "outputs": [],
   "source": [
    "from unittest.mock import MagicMock # Stops IDE from complaining about missing methods\n",
    "\n",
    "# SiLA Devices\n",
    "SRC_DEVICE = MagicMock()\n",
    "TGT_DEVICE = MagicMock()\n",
    "\n",
    "# Data\n",
    "plate = {\"unique_id\": \"1234\", \"process_to_run\": \"PCR-day1\"}\n",
    "\n",
    "# 0. Get handover position (UUID)\n",
    "handover = set(await SRC_DEVICE.AvailableHandoverPositions()) & set(await TGT_DEVICE.AvailableHandoverPositions()).pop()\n",
    "\n",
    "# 1. Prepare for input/output\n",
    "src_token = await SRC_DEVICE.PrepareForOutput(handover, plate[\"unique_id\"])\n",
    "tgt_token = await TGT_DEVICE.PrepareForInput(handover)\n",
    "\n",
    "# 2. Let's assume the source is active\n",
    "await SRC_DEVICE.PutLabware(src_token)\n",
    "end_pos = await TGT_DEVICE.LabwareDelivered(tgt_token, plate[\"unique_id\"])\n",
    "# end_pos should be the internal position where the plate was placed\n",
    "\n",
    "# 3. Extra\n",
    "# Since the target device now know what is loaded, we can do this\n",
    "await TGT_DEVICE.RunProcess(plate[\"process_to_run\"])\n",
    "# And it should.... \"hand-wave\".... know what wells are to be processed, and where/how to document the results. \n"
   ]
  }
 ],
 "metadata": {
  "kernelspec": {
   "display_name": ".venv",
   "language": "python",
   "name": "python3"
  },
  "language_info": {
   "name": "python",
   "version": "3.9.13"
  }
 },
 "nbformat": 4,
 "nbformat_minor": 2
}
